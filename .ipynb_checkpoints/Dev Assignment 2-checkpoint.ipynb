{
 "cells": [
  {
   "cell_type": "code",
   "execution_count": 3,
   "metadata": {},
   "outputs": [],
   "source": [
    "%reload_ext autoreload\n",
    "%autoreload 2\n",
    "%matplotlib inline"
   ]
  },
  {
   "cell_type": "code",
   "execution_count": 4,
   "metadata": {},
   "outputs": [],
   "source": [
    "import pandas as pd\n",
    "import numpy as np\n",
    "import matplotlib.pyplot as plt"
   ]
  },
  {
   "cell_type": "code",
   "execution_count": 5,
   "metadata": {},
   "outputs": [],
   "source": [
    "from sklearn.compose import ColumnTransformer\n",
    "from sklearn.pipeline import Pipeline\n",
    "from sklearn.impute import SimpleImputer\n",
    "from sklearn.preprocessing import OneHotEncoder\n",
    "from sklearn.preprocessing import StandardScaler\n",
    "from sklearn.decomposition import PCA\n",
    "from sklearn.linear_model import LinearRegression\n",
    "from sklearn.metrics import mean_squared_error\n",
    "from sklearn.metrics import mean_absolute_error\n",
    "from sklearn.model_selection import cross_val_score\n",
    "from sklearn.model_selection import KFold\n",
    "from pandas.plotting import scatter_matrix\n",
    "from sklearn.impute import SimpleImputer\n",
    "from sklearn.dummy import DummyClassifier\n",
    "\n",
    "import warnings\n",
    "from sklearn.exceptions import DataConversionWarning\n",
    "warnings.filterwarnings(action='ignore', category=DataConversionWarning)\n",
    "warnings.filterwarnings(action='ignore', category=FutureWarning)"
   ]
  },
  {
   "cell_type": "code",
   "execution_count": 6,
   "metadata": {},
   "outputs": [],
   "source": [
    "original_df = pd.read_csv(\"reviews.csv.gz\", compression=\"gzip\")\n",
    "df = pd.read_csv(\"reviews.csv.gz\", compression=\"gzip\")"
   ]
  },
  {
   "cell_type": "code",
   "execution_count": 7,
   "metadata": {},
   "outputs": [
    {
     "data": {
      "text/html": [
       "<div>\n",
       "<style scoped>\n",
       "    .dataframe tbody tr th:only-of-type {\n",
       "        vertical-align: middle;\n",
       "    }\n",
       "\n",
       "    .dataframe tbody tr th {\n",
       "        vertical-align: top;\n",
       "    }\n",
       "\n",
       "    .dataframe thead th {\n",
       "        text-align: right;\n",
       "    }\n",
       "</style>\n",
       "<table border=\"1\" class=\"dataframe\">\n",
       "  <thead>\n",
       "    <tr style=\"text-align: right;\">\n",
       "      <th></th>\n",
       "      <th>age</th>\n",
       "      <th>body type</th>\n",
       "      <th>bust size</th>\n",
       "      <th>category</th>\n",
       "      <th>fit</th>\n",
       "      <th>height</th>\n",
       "      <th>item_id</th>\n",
       "      <th>rating</th>\n",
       "      <th>rented for</th>\n",
       "      <th>review_date</th>\n",
       "      <th>review_summary</th>\n",
       "      <th>review_text</th>\n",
       "      <th>size</th>\n",
       "      <th>user_id</th>\n",
       "      <th>weight</th>\n",
       "    </tr>\n",
       "  </thead>\n",
       "  <tbody>\n",
       "    <tr>\n",
       "      <td>count</td>\n",
       "      <td>47894.000000</td>\n",
       "      <td>44544</td>\n",
       "      <td>43567</td>\n",
       "      <td>48136</td>\n",
       "      <td>48136</td>\n",
       "      <td>47952</td>\n",
       "      <td>4.813600e+04</td>\n",
       "      <td>48116.000000</td>\n",
       "      <td>48133</td>\n",
       "      <td>48136</td>\n",
       "      <td>48136</td>\n",
       "      <td>48136</td>\n",
       "      <td>48136.000000</td>\n",
       "      <td>48136.000000</td>\n",
       "      <td>40594</td>\n",
       "    </tr>\n",
       "    <tr>\n",
       "      <td>unique</td>\n",
       "      <td>NaN</td>\n",
       "      <td>7</td>\n",
       "      <td>95</td>\n",
       "      <td>62</td>\n",
       "      <td>3</td>\n",
       "      <td>24</td>\n",
       "      <td>NaN</td>\n",
       "      <td>NaN</td>\n",
       "      <td>8</td>\n",
       "      <td>2120</td>\n",
       "      <td>41417</td>\n",
       "      <td>47935</td>\n",
       "      <td>NaN</td>\n",
       "      <td>NaN</td>\n",
       "      <td>173</td>\n",
       "    </tr>\n",
       "    <tr>\n",
       "      <td>top</td>\n",
       "      <td>NaN</td>\n",
       "      <td>hourglass</td>\n",
       "      <td>34b</td>\n",
       "      <td>dress</td>\n",
       "      <td>fit</td>\n",
       "      <td>5' 4\"</td>\n",
       "      <td>NaN</td>\n",
       "      <td>NaN</td>\n",
       "      <td>wedding</td>\n",
       "      <td>June 15, 2016</td>\n",
       "      <td>b'Stylist Review'</td>\n",
       "      <td>b'.'</td>\n",
       "      <td>NaN</td>\n",
       "      <td>NaN</td>\n",
       "      <td>130lbs</td>\n",
       "    </tr>\n",
       "    <tr>\n",
       "      <td>freq</td>\n",
       "      <td>NaN</td>\n",
       "      <td>13887</td>\n",
       "      <td>6732</td>\n",
       "      <td>23179</td>\n",
       "      <td>35430</td>\n",
       "      <td>7100</td>\n",
       "      <td>NaN</td>\n",
       "      <td>NaN</td>\n",
       "      <td>14411</td>\n",
       "      <td>208</td>\n",
       "      <td>230</td>\n",
       "      <td>18</td>\n",
       "      <td>NaN</td>\n",
       "      <td>NaN</td>\n",
       "      <td>3576</td>\n",
       "    </tr>\n",
       "    <tr>\n",
       "      <td>mean</td>\n",
       "      <td>33.866580</td>\n",
       "      <td>NaN</td>\n",
       "      <td>NaN</td>\n",
       "      <td>NaN</td>\n",
       "      <td>NaN</td>\n",
       "      <td>NaN</td>\n",
       "      <td>1.043875e+06</td>\n",
       "      <td>9.084255</td>\n",
       "      <td>NaN</td>\n",
       "      <td>NaN</td>\n",
       "      <td>NaN</td>\n",
       "      <td>NaN</td>\n",
       "      <td>12.248255</td>\n",
       "      <td>499091.944470</td>\n",
       "      <td>NaN</td>\n",
       "    </tr>\n",
       "    <tr>\n",
       "      <td>std</td>\n",
       "      <td>8.018446</td>\n",
       "      <td>NaN</td>\n",
       "      <td>NaN</td>\n",
       "      <td>NaN</td>\n",
       "      <td>NaN</td>\n",
       "      <td>NaN</td>\n",
       "      <td>8.067556e+05</td>\n",
       "      <td>1.436092</td>\n",
       "      <td>NaN</td>\n",
       "      <td>NaN</td>\n",
       "      <td>NaN</td>\n",
       "      <td>NaN</td>\n",
       "      <td>8.523070</td>\n",
       "      <td>288853.095706</td>\n",
       "      <td>NaN</td>\n",
       "    </tr>\n",
       "    <tr>\n",
       "      <td>min</td>\n",
       "      <td>0.000000</td>\n",
       "      <td>NaN</td>\n",
       "      <td>NaN</td>\n",
       "      <td>NaN</td>\n",
       "      <td>NaN</td>\n",
       "      <td>NaN</td>\n",
       "      <td>1.233730e+05</td>\n",
       "      <td>2.000000</td>\n",
       "      <td>NaN</td>\n",
       "      <td>NaN</td>\n",
       "      <td>NaN</td>\n",
       "      <td>NaN</td>\n",
       "      <td>0.000000</td>\n",
       "      <td>47.000000</td>\n",
       "      <td>NaN</td>\n",
       "    </tr>\n",
       "    <tr>\n",
       "      <td>25%</td>\n",
       "      <td>29.000000</td>\n",
       "      <td>NaN</td>\n",
       "      <td>NaN</td>\n",
       "      <td>NaN</td>\n",
       "      <td>NaN</td>\n",
       "      <td>NaN</td>\n",
       "      <td>1.941820e+05</td>\n",
       "      <td>8.000000</td>\n",
       "      <td>NaN</td>\n",
       "      <td>NaN</td>\n",
       "      <td>NaN</td>\n",
       "      <td>NaN</td>\n",
       "      <td>8.000000</td>\n",
       "      <td>249516.000000</td>\n",
       "      <td>NaN</td>\n",
       "    </tr>\n",
       "    <tr>\n",
       "      <td>50%</td>\n",
       "      <td>32.000000</td>\n",
       "      <td>NaN</td>\n",
       "      <td>NaN</td>\n",
       "      <td>NaN</td>\n",
       "      <td>NaN</td>\n",
       "      <td>NaN</td>\n",
       "      <td>9.458800e+05</td>\n",
       "      <td>10.000000</td>\n",
       "      <td>NaN</td>\n",
       "      <td>NaN</td>\n",
       "      <td>NaN</td>\n",
       "      <td>NaN</td>\n",
       "      <td>12.000000</td>\n",
       "      <td>498811.000000</td>\n",
       "      <td>NaN</td>\n",
       "    </tr>\n",
       "    <tr>\n",
       "      <td>75%</td>\n",
       "      <td>37.000000</td>\n",
       "      <td>NaN</td>\n",
       "      <td>NaN</td>\n",
       "      <td>NaN</td>\n",
       "      <td>NaN</td>\n",
       "      <td>NaN</td>\n",
       "      <td>1.678888e+06</td>\n",
       "      <td>10.000000</td>\n",
       "      <td>NaN</td>\n",
       "      <td>NaN</td>\n",
       "      <td>NaN</td>\n",
       "      <td>NaN</td>\n",
       "      <td>16.000000</td>\n",
       "      <td>749178.750000</td>\n",
       "      <td>NaN</td>\n",
       "    </tr>\n",
       "    <tr>\n",
       "      <td>max</td>\n",
       "      <td>117.000000</td>\n",
       "      <td>NaN</td>\n",
       "      <td>NaN</td>\n",
       "      <td>NaN</td>\n",
       "      <td>NaN</td>\n",
       "      <td>NaN</td>\n",
       "      <td>2.966087e+06</td>\n",
       "      <td>10.000000</td>\n",
       "      <td>NaN</td>\n",
       "      <td>NaN</td>\n",
       "      <td>NaN</td>\n",
       "      <td>NaN</td>\n",
       "      <td>58.000000</td>\n",
       "      <td>999997.000000</td>\n",
       "      <td>NaN</td>\n",
       "    </tr>\n",
       "  </tbody>\n",
       "</table>\n",
       "</div>"
      ],
      "text/plain": [
       "                 age  body type bust size category    fit height  \\\n",
       "count   47894.000000      44544     43567    48136  48136  47952   \n",
       "unique           NaN          7        95       62      3     24   \n",
       "top              NaN  hourglass       34b    dress    fit  5' 4\"   \n",
       "freq             NaN      13887      6732    23179  35430   7100   \n",
       "mean       33.866580        NaN       NaN      NaN    NaN    NaN   \n",
       "std         8.018446        NaN       NaN      NaN    NaN    NaN   \n",
       "min         0.000000        NaN       NaN      NaN    NaN    NaN   \n",
       "25%        29.000000        NaN       NaN      NaN    NaN    NaN   \n",
       "50%        32.000000        NaN       NaN      NaN    NaN    NaN   \n",
       "75%        37.000000        NaN       NaN      NaN    NaN    NaN   \n",
       "max       117.000000        NaN       NaN      NaN    NaN    NaN   \n",
       "\n",
       "             item_id        rating rented for    review_date  \\\n",
       "count   4.813600e+04  48116.000000      48133          48136   \n",
       "unique           NaN           NaN          8           2120   \n",
       "top              NaN           NaN    wedding  June 15, 2016   \n",
       "freq             NaN           NaN      14411            208   \n",
       "mean    1.043875e+06      9.084255        NaN            NaN   \n",
       "std     8.067556e+05      1.436092        NaN            NaN   \n",
       "min     1.233730e+05      2.000000        NaN            NaN   \n",
       "25%     1.941820e+05      8.000000        NaN            NaN   \n",
       "50%     9.458800e+05     10.000000        NaN            NaN   \n",
       "75%     1.678888e+06     10.000000        NaN            NaN   \n",
       "max     2.966087e+06     10.000000        NaN            NaN   \n",
       "\n",
       "           review_summary review_text          size        user_id  weight  \n",
       "count               48136       48136  48136.000000   48136.000000   40594  \n",
       "unique              41417       47935           NaN            NaN     173  \n",
       "top     b'Stylist Review'        b'.'           NaN            NaN  130lbs  \n",
       "freq                  230          18           NaN            NaN    3576  \n",
       "mean                  NaN         NaN     12.248255  499091.944470     NaN  \n",
       "std                   NaN         NaN      8.523070  288853.095706     NaN  \n",
       "min                   NaN         NaN      0.000000      47.000000     NaN  \n",
       "25%                   NaN         NaN      8.000000  249516.000000     NaN  \n",
       "50%                   NaN         NaN     12.000000  498811.000000     NaN  \n",
       "75%                   NaN         NaN     16.000000  749178.750000     NaN  \n",
       "max                   NaN         NaN     58.000000  999997.000000     NaN  "
      ]
     },
     "execution_count": 7,
     "metadata": {},
     "output_type": "execute_result"
    }
   ],
   "source": [
    "df.describe(include='all')"
   ]
  },
  {
   "cell_type": "markdown",
   "metadata": {},
   "source": [
    "<h1>Introduction</h1>\n",
    "<p>Clearly, there are many null values within the dataset. I will be varying how to handle these null values differently depending on the feature. These rules are as follows:</p>\n",
    "<ul>\n",
    "    <li>If less than 20% of data in feature is NaN: Work with it</li>\n",
    "    <li>If more than 40% of data in feature is NaN: Delete Feature. It's too plagued with Nulls</li>\n",
    "    <li>If in between these values, use common sense to reason the solution</li>\n",
    "</ul>"
   ]
  },
  {
   "cell_type": "code",
   "execution_count": 8,
   "metadata": {},
   "outputs": [
    {
     "data": {
      "text/plain": [
       "age               float64\n",
       "body type          object\n",
       "bust size          object\n",
       "category           object\n",
       "fit                object\n",
       "height             object\n",
       "item_id             int64\n",
       "rating            float64\n",
       "rented for         object\n",
       "review_date        object\n",
       "review_summary     object\n",
       "review_text        object\n",
       "size                int64\n",
       "user_id             int64\n",
       "weight             object\n",
       "dtype: object"
      ]
     },
     "execution_count": 8,
     "metadata": {},
     "output_type": "execute_result"
    }
   ],
   "source": [
    "df.dtypes"
   ]
  },
  {
   "cell_type": "code",
   "execution_count": 9,
   "metadata": {},
   "outputs": [
    {
     "data": {
      "text/plain": [
       "age                242\n",
       "body type         3592\n",
       "bust size         4569\n",
       "category             0\n",
       "fit                  0\n",
       "height             184\n",
       "item_id              0\n",
       "rating              20\n",
       "rented for           3\n",
       "review_date          0\n",
       "review_summary       0\n",
       "review_text          0\n",
       "size                 0\n",
       "user_id              0\n",
       "weight            7542\n",
       "dtype: int64"
      ]
     },
     "execution_count": 9,
     "metadata": {},
     "output_type": "execute_result"
    }
   ],
   "source": [
    "df.isnull().sum()"
   ]
  },
  {
   "cell_type": "code",
   "execution_count": 10,
   "metadata": {},
   "outputs": [],
   "source": [
    "# test_df = test_df[(test_df['age'] > 9) & (test_df['age'] < 59)]\n",
    "# test_df.reset_index(drop=True, inplace=True)\n",
    "\n",
    "# Assume you must be over 18 to consent to having your data\n",
    "df = (df[df['age'] > 18.0]).copy()\n",
    "df.reset_index(drop=True, inplace=True)"
   ]
  },
  {
   "cell_type": "markdown",
   "metadata": {},
   "source": [
    "<h1>Height</h1>"
   ]
  },
  {
   "cell_type": "code",
   "execution_count": 11,
   "metadata": {},
   "outputs": [
    {
     "data": {
      "text/plain": [
       "0        5' 6\"\n",
       "1        5' 6\"\n",
       "2        5' 5\"\n",
       "3        5' 2\"\n",
       "4        5' 3\"\n",
       "         ...  \n",
       "47721    5' 4\"\n",
       "47722    5' 7\"\n",
       "47723    5' 6\"\n",
       "47724    5' 7\"\n",
       "47725    6' 1\"\n",
       "Name: height, Length: 47726, dtype: object"
      ]
     },
     "execution_count": 11,
     "metadata": {},
     "output_type": "execute_result"
    }
   ],
   "source": [
    "df.height"
   ]
  },
  {
   "cell_type": "code",
   "execution_count": 12,
   "metadata": {},
   "outputs": [
    {
     "data": {
      "text/plain": [
       "0        66.0\n",
       "1        66.0\n",
       "2        65.0\n",
       "3        62.0\n",
       "4        63.0\n",
       "         ... \n",
       "47721    64.0\n",
       "47722    67.0\n",
       "47723    66.0\n",
       "47724    67.0\n",
       "47725    73.0\n",
       "Name: height, Length: 47726, dtype: float64"
      ]
     },
     "execution_count": 12,
     "metadata": {},
     "output_type": "execute_result"
    }
   ],
   "source": [
    "# Convert heights from a string type with feet and inches to a float type of total inches\n",
    "\n",
    "def changeHeights(x):\n",
    "    if type(x) != float:\n",
    "        return x.replace(x, str(int(x[0])*12 + int(x[3])))\n",
    "    else:\n",
    "        return x\n",
    "    \n",
    "\n",
    "\n",
    "df.height = df.height.apply(lambda x: changeHeights(x))\n",
    "df.height.astype(float)"
   ]
  },
  {
   "cell_type": "markdown",
   "metadata": {},
   "source": [
    "<p>One hot encoding will substantially increase the number of features here. Maybe use PCA as a result? But it's not numeric, it's nominal. Would prefer to not use One hot encoding as \"there are better methods but we don't have time for them and scikit-learn doesn't offer them\". I may look into this however at the end for the craic.</p>"
   ]
  },
  {
   "cell_type": "markdown",
   "metadata": {},
   "source": [
    "<h1>Fit</h1>"
   ]
  },
  {
   "cell_type": "code",
   "execution_count": 13,
   "metadata": {},
   "outputs": [
    {
     "data": {
      "text/plain": [
       "0          fit\n",
       "1        large\n",
       "2          fit\n",
       "3          fit\n",
       "4          fit\n",
       "         ...  \n",
       "47721      fit\n",
       "47722      fit\n",
       "47723      fit\n",
       "47724      fit\n",
       "47725      fit\n",
       "Name: fit, Length: 47726, dtype: object"
      ]
     },
     "execution_count": 13,
     "metadata": {},
     "output_type": "execute_result"
    }
   ],
   "source": [
    "df['fit']"
   ]
  },
  {
   "cell_type": "markdown",
   "metadata": {},
   "source": [
    "<p>fit can be rearranged into a binary nominal set. {fit, not-fit}. How to do that? Not quite sure at this time</p>"
   ]
  },
  {
   "cell_type": "code",
   "execution_count": null,
   "metadata": {},
   "outputs": [],
   "source": []
  },
  {
   "cell_type": "markdown",
   "metadata": {},
   "source": [
    "<h2>Investigating if changing item_id to a nominal value will improve accuracy.</h2>\n",
    "<p>In my opinion, item_id should be treated as a nominal value over numeric for the following reasons:</p>\n",
    "<li>Items 1 digit apart are just as different as items 1000 digits apart</li>\n",
    "<li>Item_ID would not make sense for non integer values eg. 5.5</li>\n",
    "<li>It appears that Item ID's can be used to catagorize the dataset, rather than be interpreted as a numeric value, that can increase and decrease appropriately</li>"
   ]
  },
  {
   "cell_type": "code",
   "execution_count": 14,
   "metadata": {},
   "outputs": [
    {
     "data": {
      "text/plain": [
       "5006"
      ]
     },
     "execution_count": 14,
     "metadata": {},
     "output_type": "execute_result"
    }
   ],
   "source": [
    "len(df['item_id'].unique())"
   ]
  },
  {
   "cell_type": "code",
   "execution_count": 15,
   "metadata": {},
   "outputs": [],
   "source": [
    "df['item_id'] = df['item_id'].astype(str)"
   ]
  },
  {
   "cell_type": "code",
   "execution_count": null,
   "metadata": {},
   "outputs": [],
   "source": []
  },
  {
   "cell_type": "code",
   "execution_count": 16,
   "metadata": {},
   "outputs": [],
   "source": [
    "# test_df['rating'] = test_df['rating'].astype(float)\n",
    "# could make ratings into a ordered nominal set"
   ]
  },
  {
   "cell_type": "markdown",
   "metadata": {},
   "source": [
    "<h1>Dress Size</h1>\n",
    "<p>From researching dress sizes, and asking the few women I am able to talk to, I have found an International Single Size Conversion System for dress sizes. It seems that dress inputs vary from US, UK and EU measurements</p>\n",
    "\n",
    "<p>UK\t4\t6\t8\t10\t12\t14\t16\t18\t20\t22\t24\t26\t<br/>European\t32\t34\t36\t38\t40\t42\t44\t46\t48\t50\t52\t54\t<br>US\t1\t2\t4\t6\t8\t10\t12\t14\t16\t18\t20\t22</p>\n",
    "\n",
    "<p>There is no way to differentiate between UK and US sizes, unless we incorporate the size proportions into the calculation. This will be looked at later on.</p>"
   ]
  },
  {
   "cell_type": "markdown",
   "metadata": {},
   "source": [
    "<h2>Bra Size Conversions:</h2>\n",
    "32DD = 32DD/E<br>\n",
    "32E = 32DDD/F<br>\n",
    "32F = 32G<br>\n",
    "34DD = 34DD/E<br>\n",
    "34E = 34DDD/F<br>\n",
    "34F = 34G<br>\n",
    "etc....\n"
   ]
  },
  {
   "cell_type": "code",
   "execution_count": null,
   "metadata": {},
   "outputs": [],
   "source": []
  },
  {
   "cell_type": "code",
   "execution_count": 17,
   "metadata": {},
   "outputs": [],
   "source": [
    "df['bust size'] = df['bust size'].str.replace('ddd/e', 'dd', regex=True)\n",
    "df['bust size'] = df['bust size'].str.replace('ddd/f', 'e', regex=True)\n",
    "df['bust size'] = df['bust size'].str.replace('g', 'f', regex=True)"
   ]
  },
  {
   "cell_type": "code",
   "execution_count": 18,
   "metadata": {},
   "outputs": [
    {
     "data": {
      "text/plain": [
       "array(['32dd', '36d', '34b', '38b', '34c', '36c', '32b', '36aa', '32c',\n",
       "       '36b', '34dd', '32d', '34d', '36a', nan, '38dd', '34a', '38d',\n",
       "       '38c', '38d+', '36dd', '34d+', '32d+', '32a', '36d+', '30dd',\n",
       "       '34f', '40dd', '28a', '34h', '36h', '32f', '30c', '34aa', '44b',\n",
       "       '30d', '36f', '28dd', '32aa', '40d', '30b', '38a', '30a', '44f',\n",
       "       '46c', '32h', '38f', '42f', '28c', '42dd', '42d', '40f', '28aa',\n",
       "       '30f', '28d', '42b', '40c', '42c', '42h', '44dd', '38aa', '30h',\n",
       "       '38h', '40b', '36i', '28b', '34j', '44d', '34i', '40h', '40i',\n",
       "       '30i', '32j', '38i', '28f', '36j', '30aa', '44c', '38j'],\n",
       "      dtype=object)"
      ]
     },
     "execution_count": 18,
     "metadata": {},
     "output_type": "execute_result"
    }
   ],
   "source": [
    "df['bust size'].unique()"
   ]
  },
  {
   "cell_type": "code",
   "execution_count": 19,
   "metadata": {},
   "outputs": [],
   "source": [
    "# 'aa' values look like typos so:\n",
    "df['bust size'] = df['bust size'].str.replace('aa', 'a', regex=True)"
   ]
  },
  {
   "cell_type": "markdown",
   "metadata": {},
   "source": [
    "<p>From online research, it does not seem like 38d+, 32d+, etc. are valid bra sizes. Instead I will include them in the appropriate dd bra size category</p>"
   ]
  },
  {
   "cell_type": "code",
   "execution_count": 20,
   "metadata": {},
   "outputs": [],
   "source": [
    "df['bust size'] = df['bust size'].str.replace('+', 'd', regex=True)"
   ]
  },
  {
   "cell_type": "code",
   "execution_count": 57,
   "metadata": {},
   "outputs": [
    {
     "data": {
      "text/plain": [
       "age               2633\n",
       "body type         1627\n",
       "bust size            0\n",
       "category          2633\n",
       "fit               2633\n",
       "height            2617\n",
       "item_id           2633\n",
       "rating            2633\n",
       "rented for        2633\n",
       "review_date       2633\n",
       "review_summary    2633\n",
       "review_text       2633\n",
       "size              2633\n",
       "user_id           2633\n",
       "weight            2633\n",
       "dtype: int64"
      ]
     },
     "execution_count": 57,
     "metadata": {},
     "output_type": "execute_result"
    }
   ],
   "source": [
    "df[df['bust size'].isnull()].count()"
   ]
  },
  {
   "cell_type": "markdown",
   "metadata": {},
   "source": [
    "<h1>Weight</h1>"
   ]
  },
  {
   "cell_type": "code",
   "execution_count": 21,
   "metadata": {},
   "outputs": [
    {
     "data": {
      "text/plain": [
       "15.412982441436535"
      ]
     },
     "execution_count": 21,
     "metadata": {},
     "output_type": "execute_result"
    }
   ],
   "source": [
    "# Percentage\n",
    "(df[df['weight'].isnull()].user_id.count() / df.shape[0]) * 100"
   ]
  },
  {
   "cell_type": "markdown",
   "metadata": {},
   "source": [
    "<h3>Interpretation</h3>\n",
    "<p>15.412% of the weight dataset is null. We want to reduce this to 0. My approach will be removing the row with, for example: weight and another feature are null. This will result in solving missing feature from more than 1 feature in one deletion. Once we get around 10% missing values, I'm going to fill in the rest with mean/mode average values.</p>"
   ]
  },
  {
   "cell_type": "code",
   "execution_count": 22,
   "metadata": {},
   "outputs": [
    {
     "data": {
      "text/plain": [
       "2.832837447093827"
      ]
     },
     "execution_count": 22,
     "metadata": {},
     "output_type": "execute_result"
    }
   ],
   "source": [
    "df[(df['weight'].isnull()) & df['body type'].isnull()].user_id.count() / df.shape[0] * 100"
   ]
  },
  {
   "cell_type": "code",
   "execution_count": 23,
   "metadata": {},
   "outputs": [
    {
     "data": {
      "text/plain": [
       "3.968486778695051"
      ]
     },
     "execution_count": 23,
     "metadata": {},
     "output_type": "execute_result"
    }
   ],
   "source": [
    "df[(df['weight'].isnull()) & df['bust size'].isnull()].user_id.count() / df.shape[0] * 100"
   ]
  },
  {
   "cell_type": "code",
   "execution_count": 24,
   "metadata": {},
   "outputs": [
    {
     "data": {
      "text/plain": [
       "1.0748858064786488"
      ]
     },
     "execution_count": 24,
     "metadata": {},
     "output_type": "execute_result"
    }
   ],
   "source": [
    "df[(df['weight'].isnull()) & df['body type'].isnull()  & df['bust size'].isnull()].user_id.count() / df.shape[0] * 100"
   ]
  },
  {
   "cell_type": "code",
   "execution_count": 25,
   "metadata": {},
   "outputs": [
    {
     "data": {
      "text/plain": [
       "0.140384695972845"
      ]
     },
     "execution_count": 25,
     "metadata": {},
     "output_type": "execute_result"
    }
   ],
   "source": [
    "df[(df['weight'].isnull()) & df['height'].isnull()].user_id.count() / df.shape[0] * 100"
   ]
  },
  {
   "cell_type": "code",
   "execution_count": 26,
   "metadata": {},
   "outputs": [],
   "source": [
    "new_df = (df[(df['weight'].notnull()) | (df['body type'].notnull())]).copy()"
   ]
  },
  {
   "cell_type": "code",
   "execution_count": 27,
   "metadata": {},
   "outputs": [],
   "source": [
    "new_df = (new_df[(new_df['weight'].notnull()) | (new_df['bust size'].notnull())])"
   ]
  },
  {
   "cell_type": "code",
   "execution_count": 28,
   "metadata": {},
   "outputs": [],
   "source": [
    "new_df = (new_df[(new_df['weight'].notnull()) | (new_df['age'].notnull())])"
   ]
  },
  {
   "cell_type": "code",
   "execution_count": 29,
   "metadata": {},
   "outputs": [],
   "source": [
    "new_df = (new_df[(new_df['weight'].notnull()) | (new_df['height'].notnull())])"
   ]
  },
  {
   "cell_type": "code",
   "execution_count": 30,
   "metadata": {},
   "outputs": [
    {
     "data": {
      "text/plain": [
       "0.9421908393747643"
      ]
     },
     "execution_count": 30,
     "metadata": {},
     "output_type": "execute_result"
    }
   ],
   "source": [
    "new_df.shape[0] / df.shape[0]"
   ]
  },
  {
   "cell_type": "code",
   "execution_count": 31,
   "metadata": {},
   "outputs": [
    {
     "data": {
      "text/plain": [
       "10.223052460693397"
      ]
     },
     "execution_count": 31,
     "metadata": {},
     "output_type": "execute_result"
    }
   ],
   "source": [
    "# Percentage\n",
    "(new_df[new_df['weight'].isnull()].user_id.count() / new_df.shape[0]) * 100"
   ]
  },
  {
   "cell_type": "code",
   "execution_count": 32,
   "metadata": {},
   "outputs": [],
   "source": [
    "df = new_df"
   ]
  },
  {
   "cell_type": "code",
   "execution_count": 33,
   "metadata": {},
   "outputs": [],
   "source": [
    "# Convert weights from a string type with lbs to a float type pounds\n",
    "def removeLbs(x):\n",
    "    if type(x) != float:\n",
    "        return x.replace('lbs', '')\n",
    "    else:\n",
    "        return x\n",
    "    \n",
    "\n",
    "\n",
    "df.weight = df.weight.apply(lambda x: removeLbs(x))\n",
    "df.weight = df.weight.astype(float)"
   ]
  },
  {
   "cell_type": "code",
   "execution_count": 34,
   "metadata": {},
   "outputs": [],
   "source": [
    "df_null_weights = df[df['weight'].isnull()]\n",
    "\n",
    "df.dropna(subset=[\"weight\"], inplace=True)\n",
    "df.reset_index(drop=True, inplace=True)\n"
   ]
  },
  {
   "cell_type": "code",
   "execution_count": 35,
   "metadata": {},
   "outputs": [
    {
     "data": {
      "image/png": "[encoded data removed]",
      "text/plain": [
       "<Figure size 864x864 with 1 Axes>"
      ]
     },
     "metadata": {
      "needs_background": "light"
     },
     "output_type": "display_data"
    }
   ],
   "source": [
    "weight = df['weight']\n",
    "size = df['size']\n",
    "\n",
    "fig = plt.figure(figsize=(12,12))\n",
    "plt.title(\"Weight Size Correlation Excluding null values\")\n",
    "plt.scatter(weight, size, color = \"blue\", marker=\"o\")\n",
    "plt.xlabel(\"Weight (lbs)\")\n",
    "plt.xlim(0, 300.0)\n",
    "plt.ylabel(\"Size\")\n",
    "plt.ylim(0, 60)\n",
    "plt.show()"
   ]
  },
  {
   "cell_type": "code",
   "execution_count": 36,
   "metadata": {},
   "outputs": [],
   "source": [
    "outliers = df[((df['weight'] > 260.0) & (df['size'] <= 50.0)) \n",
    "                  | ((df['weight'] <= 100.0) & (df['size'] >= 15.0))\n",
    "                  | ((df['weight'] <= 140.0) & (df['size'] >= 35.0))\n",
    "                  | ((df['weight'] >= 182.0) & (df['size'] <= 9.0))\n",
    "                 ]"
   ]
  },
  {
   "cell_type": "code",
   "execution_count": 37,
   "metadata": {},
   "outputs": [],
   "source": [
    "df = df[~df.isin(outliers)]\n",
    "\n",
    "df.dropna(subset=[\"size\"], inplace=True)\n",
    "df.reset_index(drop=True, inplace=True)\n"
   ]
  },
  {
   "cell_type": "code",
   "execution_count": 38,
   "metadata": {},
   "outputs": [
    {
     "data": {
      "image/png": "[encoded data removed]",
      "text/plain": [
       "<Figure size 864x864 with 1 Axes>"
      ]
     },
     "metadata": {
      "needs_background": "light"
     },
     "output_type": "display_data"
    }
   ],
   "source": [
    "weight = df['weight']\n",
    "size = df['size']\n",
    "\n",
    "fig = plt.figure(figsize=(12,12))\n",
    "plt.title(\"Weight Size Correlation Excluding null values\")\n",
    "plt.scatter(weight, size, color = \"blue\", marker=\"o\")\n",
    "plt.xlabel(\"Weight (lbs)\")\n",
    "plt.xlim(0, 300.0)\n",
    "plt.ylabel(\"Size\")\n",
    "plt.ylim(0, 60)\n",
    "plt.show()"
   ]
  },
  {
   "cell_type": "markdown",
   "metadata": {},
   "source": [
    "<h2>Result</h2>\n",
    "<p>As you can see, the outliers from weight and size have been removed. There is now a very strong correlation between weight and dress sizes which should be true.</p>"
   ]
  },
  {
   "cell_type": "code",
   "execution_count": 39,
   "metadata": {},
   "outputs": [],
   "source": [
    "df = df.append(df_null_weights)"
   ]
  },
  {
   "cell_type": "code",
   "execution_count": 40,
   "metadata": {},
   "outputs": [],
   "source": [
    "df.dropna(subset=[\"rented for\"], inplace=True)\n",
    "df.reset_index(drop=True, inplace=True)\n"
   ]
  },
  {
   "cell_type": "code",
   "execution_count": 41,
   "metadata": {},
   "outputs": [],
   "source": [
    "df.dropna(subset=[\"rating\"], inplace=True)\n",
    "df.reset_index(drop=True, inplace=True)\n"
   ]
  },
  {
   "cell_type": "code",
   "execution_count": 52,
   "metadata": {},
   "outputs": [
    {
     "data": {
      "text/plain": [
       "age               float64\n",
       "body type          object\n",
       "bust size          object\n",
       "category           object\n",
       "fit                object\n",
       "height             object\n",
       "item_id            object\n",
       "rating            float64\n",
       "rented for         object\n",
       "review_date        object\n",
       "review_summary     object\n",
       "review_text        object\n",
       "size              float64\n",
       "user_id           float64\n",
       "weight            float64\n",
       "dtype: object"
      ]
     },
     "execution_count": 52,
     "metadata": {},
     "output_type": "execute_result"
    }
   ],
   "source": [
    "df.dtypes"
   ]
  },
  {
   "cell_type": "markdown",
   "metadata": {},
   "source": [
    "<h1>Creating the Learning Algorithm</h1>"
   ]
  },
  {
   "cell_type": "code",
   "execution_count": 43,
   "metadata": {},
   "outputs": [
    {
     "data": {
      "text/plain": [
       "(44920, 15)"
      ]
     },
     "execution_count": 43,
     "metadata": {},
     "output_type": "execute_result"
    }
   ],
   "source": [
    "partDF = df[0:5000]\n",
    "df.shape"
   ]
  },
  {
   "cell_type": "code",
   "execution_count": 44,
   "metadata": {},
   "outputs": [],
   "source": [
    "numeric_features = ['age', 'weight', 'size', 'height']\n",
    "nominal_features = ['body type', 'bust size', 'category', 'fit', 'item_id', \n",
    "                    'rented for', 'user_id']"
   ]
  },
  {
   "cell_type": "code",
   "execution_count": 45,
   "metadata": {},
   "outputs": [],
   "source": [
    "preprocessor = ColumnTransformer([\n",
    "(\"num\", Pipeline([(\"imputer\", SimpleImputer(missing_values=np.nan, strategy=\"mean\")),\n",
    "(\"scaler\", StandardScaler())]),numeric_features),\n",
    "(\"nom\", Pipeline([(\"imputer\", SimpleImputer(missing_values=np.nan, strategy=\"most_frequent\")),\n",
    "(\"binarizer\", OneHotEncoder(handle_unknown=\"ignore\"))]),nominal_features)],\n",
    "remainder=\"drop\")"
   ]
  },
  {
   "cell_type": "code",
   "execution_count": 46,
   "metadata": {},
   "outputs": [],
   "source": [
    "pipeline = Pipeline([\n",
    "(\"pre\", preprocessor),\n",
    "(\"est\", LinearRegression())])"
   ]
  },
  {
   "cell_type": "code",
   "execution_count": 47,
   "metadata": {},
   "outputs": [],
   "source": [
    "partY = partDF['rating'].values\n",
    "y = df['rating'].values"
   ]
  },
  {
   "cell_type": "code",
   "execution_count": 51,
   "metadata": {},
   "outputs": [
    {
     "data": {
      "text/plain": [
       "-1.3415369405111983"
      ]
     },
     "execution_count": 51,
     "metadata": {},
     "output_type": "execute_result"
    }
   ],
   "source": [
    "np.mean(cross_val_score(pipeline, df, y, scoring=\"neg_mean_absolute_error\", cv=10))"
   ]
  },
  {
   "cell_type": "code",
   "execution_count": 72,
   "metadata": {},
   "outputs": [
    {
     "data": {
      "text/plain": [
       "age               float64\n",
       "body type          object\n",
       "bust size          object\n",
       "category           object\n",
       "fit                object\n",
       "height             object\n",
       "item_id            object\n",
       "rating            float64\n",
       "rented for         object\n",
       "review_date        object\n",
       "review_summary     object\n",
       "review_text        object\n",
       "size              float64\n",
       "user_id           float64\n",
       "weight            float64\n",
       "dtype: object"
      ]
     },
     "execution_count": 72,
     "metadata": {},
     "output_type": "execute_result"
    }
   ],
   "source": [
    "df.dtypes"
   ]
  },
  {
   "cell_type": "code",
   "execution_count": 76,
   "metadata": {},
   "outputs": [
    {
     "data": {
      "text/plain": [
       "34287"
      ]
     },
     "execution_count": 76,
     "metadata": {},
     "output_type": "execute_result"
    }
   ],
   "source": [
    "len(df['user_id'].unique())"
   ]
  },
  {
   "cell_type": "code",
   "execution_count": 77,
   "metadata": {},
   "outputs": [
    {
     "data": {
      "text/plain": [
       "44920"
      ]
     },
     "execution_count": 77,
     "metadata": {},
     "output_type": "execute_result"
    }
   ],
   "source": [
    "len(df['user_id'])"
   ]
  },
  {
   "cell_type": "code",
   "execution_count": 78,
   "metadata": {},
   "outputs": [],
   "source": [
    "df['user_id'] = df['user_id'].astype(str)"
   ]
  },
  {
   "cell_type": "code",
   "execution_count": 79,
   "metadata": {},
   "outputs": [
    {
     "data": {
      "text/plain": [
       "'427200.0'"
      ]
     },
     "execution_count": 79,
     "metadata": {},
     "output_type": "execute_result"
    }
   ],
   "source": [
    "df['user_id'][0]"
   ]
  },
  {
   "cell_type": "code",
   "execution_count": 48,
   "metadata": {},
   "outputs": [
    {
     "data": {
      "text/plain": [
       "-1.3045869303618005"
      ]
     },
     "execution_count": 48,
     "metadata": {},
     "output_type": "execute_result"
    }
   ],
   "source": [
    "dum_classifier = DummyClassifier(strategy=\"stratified\")\n",
    "\n",
    "np.mean(cross_val_score(dum_classifier, df, y, scoring=\"neg_mean_absolute_error\", cv=10))"
   ]
  },
  {
   "cell_type": "code",
   "execution_count": null,
   "metadata": {},
   "outputs": [],
   "source": []
  }
 ],
 "metadata": {
  "kernelspec": {
   "display_name": "Python 3",
   "language": "python",
   "name": "python3"
  },
  "language_info": {
   "codemirror_mode": {
    "name": "ipython",
    "version": 3
   },
   "file_extension": ".py",
   "mimetype": "text/x-python",
   "name": "python",
   "nbconvert_exporter": "python",
   "pygments_lexer": "ipython3",
   "version": "3.7.3"
  }
 },
 "nbformat": 4,
 "nbformat_minor": 2
}
